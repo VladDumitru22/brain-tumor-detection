{
 "cells": [
  {
   "cell_type": "code",
   "execution_count": null,
   "id": "79f537fc",
   "metadata": {},
   "outputs": [],
   "source": [
    "from PIL import Image\n",
    "import matplotlib.pyplot as plt\n",
    "import numpy as np\n",
    "import glob"
   ]
  },
  {
   "cell_type": "code",
   "execution_count": 5,
   "id": "c353b67f",
   "metadata": {},
   "outputs": [],
   "source": [
    "no_tumor = []\n",
    "no_path = r'../data/no/*'\n",
    "\n",
    "for file in glob.iglob(no_path):\n",
    "    img = Image.open(file).convert('RGB')\n",
    "    no_tumor.append(img)"
   ]
  },
  {
   "cell_type": "code",
   "execution_count": 6,
   "id": "3d989f13",
   "metadata": {},
   "outputs": [],
   "source": [
    "tumor = []\n",
    "yes_path = r'../data/yes/*'\n",
    "\n",
    "for file in glob.iglob(yes_path):\n",
    "    img = Image.open(file).convert('RGB')\n",
    "    tumor.append(img)"
   ]
  },
  {
   "cell_type": "markdown",
   "id": "d2ed2d5f",
   "metadata": {},
   "source": [
    "**Number of images per class**"
   ]
  },
  {
   "cell_type": "code",
   "execution_count": null,
   "id": "79454211",
   "metadata": {},
   "outputs": [
    {
     "name": "stdout",
     "output_type": "stream",
     "text": [
      "Number of no_tumor samples: 98\n",
      "Number of tumor samples: 155\n",
      "Imbalace ratio: 0.63\n"
     ]
    }
   ],
   "source": [
    "print(f\"Number of no_tumor samples: {len(no_tumor)}\")\n",
    "print(f\"Number of tumor samples: {len(tumor)}\")\n",
    "\n",
    "print(f\"Imbalace ratio: {min(len(no_tumor), len(tumor))/max(len(no_tumor), len(tumor)):.2f}\")\n",
    "# A somewhat imbalanced dataset"
   ]
  },
  {
   "cell_type": "code",
   "execution_count": 18,
   "id": "74e9ff24",
   "metadata": {},
   "outputs": [
    {
     "name": "stdout",
     "output_type": "stream",
     "text": [
      "Number of different shapes in the no_tumor dataset: 61\n"
     ]
    }
   ],
   "source": [
    "seen = set()\n",
    "for img in no_tumor:\n",
    "    img_array = np.array(img)\n",
    "    if img_array.shape not in seen:\n",
    "        seen.add(img_array.shape)\n",
    "    \n",
    "print(f\"Number of different shapes in the no_tumor dataset: {len(seen)}\")"
   ]
  },
  {
   "cell_type": "code",
   "execution_count": null,
   "id": "7134c673",
   "metadata": {},
   "outputs": [],
   "source": [
    "for i, img in enumerate(no_tumor):\n",
    "    if i < 5:\n",
    "        "
   ]
  }
 ],
 "metadata": {
  "kernelspec": {
   "display_name": "MRI",
   "language": "python",
   "name": "python3"
  },
  "language_info": {
   "codemirror_mode": {
    "name": "ipython",
    "version": 3
   },
   "file_extension": ".py",
   "mimetype": "text/x-python",
   "name": "python",
   "nbconvert_exporter": "python",
   "pygments_lexer": "ipython3",
   "version": "3.10.18"
  }
 },
 "nbformat": 4,
 "nbformat_minor": 5
}
